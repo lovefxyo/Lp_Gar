{
 "cells": [
  {
   "cell_type": "code",
   "execution_count": 1,
   "metadata": {},
   "outputs": [],
   "source": [
    "import yaml"
   ]
  },
  {
   "cell_type": "code",
   "execution_count": null,
   "metadata": {},
   "outputs": [],
   "source": []
  },
  {
   "cell_type": "code",
   "execution_count": 9,
   "metadata": {},
   "outputs": [
    {
     "name": "stdout",
     "output_type": "stream",
     "text": [
      "{'DataGraphPath': {'VFile': './dataset/dblp_1980/dblp_v.csv', 'EFile': './dataset/dblp_1980/dblp_e.csv'}, 'ExpandRound': 20, 'J': 1, 'SupportBound': 100, 'TimeLimit': 3000.0, 'TimeLimitPerSupp': 0.5, 'ConstantFreqBound': 0.01, 'PatternVertexLimit': 5, 'LiteralTypes': ['constant_literal', 'variable_literal', 'edge_literal'], 'Restrictions': None, 'TimeLogFile': './fxytime.timelog_8_nodes', 'OutputGarDir': './fxygar', 'SpecifiedRhsLiteralSet': [{'Type': 'edge_literal', 'XLabel': 3, 'EdgeLabel': 1007, 'YLabel': 4}, {'Type': 'edge_literal', 'XLabel': 2, 'EdgeLabel': 1002, 'YLabel': 6}, {'Type': 'edge_literal', 'XLabel': 2, 'EdgeLabel': 1005, 'YLabel': 8}, {'Type': 'edge_literal', 'XLabel': 2, 'EdgeLabel': 1015, 'YLabel': 2}, {'Type': 'edge_literal', 'XLabel': 2, 'EdgeLabel': 1003, 'YLabel': 3}], 'SpecifiedEdgeTypeSet': [{'SrcLabel': 2, 'EdgeLabel': 1003, 'DstLabel': 3}, {'SrcLabel': 3, 'EdgeLabel': 1007, 'DstLabel': 4}, {'SrcLabel': 2, 'EdgeLabel': 1015, 'DstLabel': 2}, {'SrcLabel': 2, 'EdgeLabel': 1002, 'DstLabel': 6}, {'SrcLabel': 2, 'EdgeLabel': 1006, 'DstLabel': 10}, {'SrcLabel': 2, 'EdgeLabel': 1001, 'DstLabel': 5}, {'SrcLabel': 2, 'EdgeLabel': 1005, 'DstLabel': 8}, {'SrcLabel': 2, 'EdgeLabel': 1004, 'DstLabel': 7}, {'SrcLabel': 2, 'EdgeLabel': 1003, 'DstLabel': 2}, {'SrcLabel': 2, 'EdgeLabel': 1017, 'DstLabel': 3}, {'SrcLabel': 2, 'EdgeLabel': 1001, 'DstLabel': 1}, {'SrcLabel': 2, 'EdgeLabel': 1013, 'DstLabel': 10}, {'SrcLabel': 10, 'EdgeLabel': 1002, 'DstLabel': 6}, {'SrcLabel': 5, 'EdgeLabel': 1009, 'DstLabel': 1}, {'SrcLabel': 5, 'EdgeLabel': 1014, 'DstLabel': 1}, {'SrcLabel': 3, 'EdgeLabel': 1008, 'DstLabel': 1}, {'SrcLabel': 1, 'EdgeLabel': 1009, 'DstLabel': 1}, {'SrcLabel': 1, 'EdgeLabel': 1014, 'DstLabel': 1}, {'SrcLabel': 3, 'EdgeLabel': 1010, 'DstLabel': 12}, {'SrcLabel': 3, 'EdgeLabel': 1011, 'DstLabel': 2}, {'SrcLabel': 12, 'EdgeLabel': 1012, 'DstLabel': 1}]}\n"
     ]
    }
   ],
   "source": [
    "f= open(\"./gar_discover.yaml\",'r')\n",
    "cfg=f.read()\n",
    "d=yaml.safe_load(cfg)\n",
    "print(d)"
   ]
  }
 ],
 "metadata": {
  "interpreter": {
   "hash": "7eecec397c16758716d6d2477f82ea485c5fb1c0dda44cf73447b23f0e41c9cc"
  },
  "kernelspec": {
   "display_name": "Python 3.9.1 ('torch')",
   "language": "python",
   "name": "python3"
  },
  "language_info": {
   "codemirror_mode": {
    "name": "ipython",
    "version": 3
   },
   "file_extension": ".py",
   "mimetype": "text/x-python",
   "name": "python",
   "nbconvert_exporter": "python",
   "pygments_lexer": "ipython3",
   "version": "3.9.1"
  },
  "orig_nbformat": 4
 },
 "nbformat": 4,
 "nbformat_minor": 2
}
