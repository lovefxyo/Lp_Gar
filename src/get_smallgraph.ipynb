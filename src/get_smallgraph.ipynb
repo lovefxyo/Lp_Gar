{
 "cells": [
  {
   "cell_type": "code",
   "execution_count": 1,
   "metadata": {},
   "outputs": [],
   "source": [
    "#获取小图路径和小图的边和节点"
   ]
  },
  {
   "cell_type": "code",
   "execution_count": 2,
   "metadata": {},
   "outputs": [],
   "source": [
    "#define import\n",
    "import pandas as pd\n",
    "import DataUtils\n",
    "from tqdm import tqdm"
   ]
  },
  {
   "cell_type": "code",
   "execution_count": 19,
   "metadata": {},
   "outputs": [],
   "source": [
    "#define settings\n",
    "path=\"./graph_dataset/imdb/\"\n",
    "graph_e_data=\"imdb_e.csv\"\n",
    "graph_v_data=\"imdb_v_edit.csv\"\n",
    "graph_route=\"bfs_seq.txt\""
   ]
  },
  {
   "cell_type": "code",
   "execution_count": 18,
   "metadata": {},
   "outputs": [],
   "source": [
    "#由完整路径获取小路径\n",
    "import DataUtils\n",
    "datautils=DataUtils.DataUtils(path+graph_e_data,path+graph_v_data,graph_route=path+graph_route)\n",
    "datautils.get_smallgraph(percentage=30,output_file=path+\"3_imdb_route.txt\")\n",
    "datautils.split_seq(del_num=2,input_file=path+graph_v_data,output_file=path+\"imdb_v_edit.csv\")"
   ]
  },
  {
   "cell_type": "code",
   "execution_count": 20,
   "metadata": {},
   "outputs": [],
   "source": [
    "e_data=pd.read_csv(path+graph_e_data,delimiter=\",\")\n",
    "v_data=pd.read_csv(path+graph_v_data,delimiter=\",\")\n",
    "route=pd.read_csv(path+\"3_imdb_route.txt\",delimiter=\",\")"
   ]
  },
  {
   "cell_type": "code",
   "execution_count": 21,
   "metadata": {},
   "outputs": [],
   "source": [
    "#由路径筛选边\n",
    "new_e=pd.merge(pd.merge(e_data,route,left_on=\"source_id:int\",right_on=\"id:int\"),route,left_on=\"target_id:int\",right_on=\"id:int\")\n",
    "#new_e_2=pd.merge(pd.merge(new_e_1,route,left_on=\"target_id:int\",right_on=\"id:int\"))\n",
    "new_e.reindex(columns=[\"edge_id:int\",\"source_id:int\",\"target_id:int\",\"label_id:int\"]).to_csv(path+\"3_imdb_e.csv\",index=None)"
   ]
  },
  {
   "cell_type": "code",
   "execution_count": 22,
   "metadata": {},
   "outputs": [
    {
     "data": {
      "text/plain": [
       "(389154, 6)"
      ]
     },
     "execution_count": 22,
     "metadata": {},
     "output_type": "execute_result"
    }
   ],
   "source": [
    "new_e.shape"
   ]
  },
  {
   "cell_type": "code",
   "execution_count": 23,
   "metadata": {},
   "outputs": [],
   "source": [
    "#由路径筛选节点\n",
    "new_v=pd.merge(v_data,route,left_on=\"vertex_id:int\",right_on=\"id:int\")\n",
    "new_v.reindex(columns=[\"vertex_id:int\",\"label_id:int\",\"attr:string\"]).to_csv(path+\"3_imdb_v.csv\",sep=\",\",index=None)\n"
   ]
  },
  {
   "cell_type": "code",
   "execution_count": 24,
   "metadata": {},
   "outputs": [
    {
     "data": {
      "text/plain": [
       "(153032, 4)"
      ]
     },
     "execution_count": 24,
     "metadata": {},
     "output_type": "execute_result"
    }
   ],
   "source": [
    "new_v.shape"
   ]
  }
 ],
 "metadata": {
  "interpreter": {
   "hash": "7eecec397c16758716d6d2477f82ea485c5fb1c0dda44cf73447b23f0e41c9cc"
  },
  "kernelspec": {
   "display_name": "Python 3.9.1 ('torch')",
   "language": "python",
   "name": "python3"
  },
  "language_info": {
   "codemirror_mode": {
    "name": "ipython",
    "version": 3
   },
   "file_extension": ".py",
   "mimetype": "text/x-python",
   "name": "python",
   "nbconvert_exporter": "python",
   "pygments_lexer": "ipython3",
   "version": "3.9.1"
  },
  "orig_nbformat": 4
 },
 "nbformat": 4,
 "nbformat_minor": 2
}
