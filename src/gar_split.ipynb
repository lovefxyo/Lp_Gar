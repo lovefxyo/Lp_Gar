{
 "cells": [
  {
   "cell_type": "code",
   "execution_count": 1,
   "metadata": {},
   "outputs": [],
   "source": [
    "import pandas as pd\n",
    "import os\n",
    "import yaml"
   ]
  },
  {
   "cell_type": "code",
   "execution_count": 1,
   "metadata": {},
   "outputs": [],
   "source": [
    "gar_path=\"./fxygar/2_1003_3_gar_newnew/\"\n",
    "yaml_file=open(gar_path+\"group.yaml\",'w')"
   ]
  },
  {
   "cell_type": "code",
   "execution_count": 3,
   "metadata": {},
   "outputs": [
    {
     "name": "stdout",
     "output_type": "stream",
     "text": [
      "4 21\n"
     ]
    }
   ],
   "source": [
    "yaml_list=[]\n",
    "for i in range(4,5):\n",
    "    num=1\n",
    "    file_x=gar_path+\"gar_level_\"+str(i)+\"_worker_0_x_set.csv\"\n",
    "    file_y=gar_path+\"gar_level_\"+str(i)+\"_worker_0_y_set.csv\"\n",
    "    file_e=gar_path+\"gar_level_\"+str(i)+\"_worker_0_e_set.csv\"\n",
    "    file_v=gar_path+\"gar_level_\"+str(i)+\"_worker_0_v_set.csv\"\n",
    "    df_x=pd.read_csv(file_x)\n",
    "    df_y=pd.read_csv(file_y)\n",
    "    df_e=pd.read_csv(file_e)\n",
    "    df_v=pd.read_csv(file_v)\n",
    "    gar_num=df_y['gar_id'].size\n",
    "    print(i,gar_num)\n",
    "    for gar in range(0,gar_num):\n",
    "        df_y_new=df_y[df_y['gar_id'].isin([gar])]\n",
    "        y_new_name=\"dblp_gar_y_level_\"+str(i)+\"_gar_\"+str(num)+\".csv\"\n",
    "        df_y_new.iloc[:,:-1].to_csv(gar_path+\"/group/\"+y_new_name,index=None)\n",
    "        df_e_new=df_e[df_e['graph_id:int'].isin([gar])]\n",
    "        e_new_name=\"dblp_gar_e_level_\"+str(i)+\"_gar_\"+str(num)+\".csv\"\n",
    "        df_e_new.iloc[:,:-1].to_csv(gar_path+\"/group/\"+e_new_name,index=None)\n",
    "        df_v_new=df_v[df_v['graph_id:string'].isin([gar])]\n",
    "        v_new_name=\"dblp_gar_v_level_\"+str(i)+\"_gar_\"+str(num)+\".csv\"\n",
    "        df_v_new.iloc[:,:-1].to_csv(gar_path+\"/group/\"+v_new_name,index=None)\n",
    "        num=num+1\n",
    "        dst={'VFile':gar_path+v_new_name,'EFile':gar_path+e_new_name,'XFile':gar_path+\"gar_level_1_worker_0_x_set.csv\",'YFile':gar_path+y_new_name}\n",
    "        yaml_list.append(dst)\n",
    "yaml.dump(yaml_list,yaml_file,sort_keys=False)\n",
    "\n"
   ]
  }
 ],
 "metadata": {
  "interpreter": {
   "hash": "7eecec397c16758716d6d2477f82ea485c5fb1c0dda44cf73447b23f0e41c9cc"
  },
  "kernelspec": {
   "display_name": "Python 3.9.1 ('torch')",
   "language": "python",
   "name": "python3"
  },
  "language_info": {
   "codemirror_mode": {
    "name": "ipython",
    "version": 3
   },
   "file_extension": ".py",
   "mimetype": "text/x-python",
   "name": "python",
   "nbconvert_exporter": "python",
   "pygments_lexer": "ipython3",
   "version": "3.9.7"
  },
  "orig_nbformat": 4
 },
 "nbformat": 4,
 "nbformat_minor": 2
}
