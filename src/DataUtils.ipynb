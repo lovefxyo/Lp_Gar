{
 "cells": [
  {
   "cell_type": "code",
   "execution_count": 3,
   "metadata": {},
   "outputs": [],
   "source": [
    "import DataUtils\n",
    "import pandas as pd"
   ]
  },
  {
   "cell_type": "code",
   "execution_count": 1,
   "metadata": {},
   "outputs": [],
   "source": [
    "#define settings\n",
    "path=\"./graph_dataset/yago/\"\n",
    "graph_e_data=\"yago_e.csv\"\n",
    "graph_v_data=\"imdb_v_edit.csv\"\n",
    "graph_route=\"bfs_seq.txt\""
   ]
  },
  {
   "cell_type": "code",
   "execution_count": 4,
   "metadata": {},
   "outputs": [],
   "source": [
    "#定义实例\n",
    "utils=DataUtils.DataUtils(graph_e_file=path+graph_e_data,graph_v_file=path+graph_v_data,graph_route=path+graph_route)"
   ]
  },
  {
   "cell_type": "code",
   "execution_count": 5,
   "metadata": {},
   "outputs": [],
   "source": [
    "#切分小图\n",
    "utils.get_smallgraph(percentage=30,output_file=\"./graph_dataset/yago/3_yago.txt\")"
   ]
  },
  {
   "cell_type": "code",
   "execution_count": 4,
   "metadata": {},
   "outputs": [],
   "source": [
    "#csv to tsv\n",
    "pykeen_dataset=pd.read_csv(path+graph_e_data)\n",
    "pykeen_dataset.reindex(columns=[\"source_id:int\",\"label_id:int\",\"target_id:int\"]).to_csv(path+\"yago_e.tsv\",sep=\"\\t\",index=None)\n"
   ]
  }
 ],
 "metadata": {
  "interpreter": {
   "hash": "7eecec397c16758716d6d2477f82ea485c5fb1c0dda44cf73447b23f0e41c9cc"
  },
  "kernelspec": {
   "display_name": "Python 3.9.1 ('torch')",
   "language": "python",
   "name": "python3"
  },
  "language_info": {
   "codemirror_mode": {
    "name": "ipython",
    "version": 3
   },
   "file_extension": ".py",
   "mimetype": "text/x-python",
   "name": "python",
   "nbconvert_exporter": "python",
   "pygments_lexer": "ipython3",
   "version": "3.9.7"
  },
  "orig_nbformat": 4
 },
 "nbformat": 4,
 "nbformat_minor": 2
}
