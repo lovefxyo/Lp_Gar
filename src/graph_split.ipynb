{
 "cells": [
  {
   "cell_type": "code",
   "execution_count": null,
   "metadata": {},
   "outputs": [],
   "source": [
    "#graph图切分为test,train,valid"
   ]
  },
  {
   "cell_type": "code",
   "execution_count": 1,
   "metadata": {},
   "outputs": [],
   "source": [
    "import os\n",
    "import pandas as pd\n",
    "from sklearn.utils import shuffle"
   ]
  },
  {
   "cell_type": "code",
   "execution_count": 2,
   "metadata": {},
   "outputs": [],
   "source": [
    "path=\"./graph_dataset/dbpedia/\""
   ]
  },
  {
   "cell_type": "code",
   "execution_count": null,
   "metadata": {},
   "outputs": [],
   "source": [
    "#SimplE分割代码\n",
    "pd_all = pd.read_csv(os.path.join(path, \"dblp_e_map.csv\"),sep=',')\n",
    "pd_all = shuffle(pd_all)\n",
    "pd_all=pd_all.reindex(columns=[\"source_id:int\",\"label_id:int\",\"target_id:int\",\"edge_id:int\"])\n",
    "test_set = pd_all.iloc[0:int(pd_all.shape[0]/10)]\n",
    "valid_set=pd_all.iloc[int(pd_all.shape[0]/10):2*int(pd_all.shape[0]/10)]\n",
    "train_set = pd_all.iloc[2*int(pd_all.shape[0]/10): int(pd_all.shape[0])]\n",
    "test_set.iloc[:,0:3].to_csv(path+\"/test.txt\", index=False, sep='\\t')\n",
    "valid_set.iloc[:,0:3].to_csv(path+\"/valid.txt\", index=False, sep='\\t')\n",
    "train_set.iloc[:,0:3].to_csv(path+\"/train.txt\", index=False, sep='\\t')\n",
    "test_set.to_csv(path+\"/test.csv\", index=False, sep=',')\n",
    "valid_set.to_csv(path+\"/valid.csv\", index=False, sep=',')\n",
    "train_set.to_csv(path+\"/train.csv\", index=False, sep=',')"
   ]
  },
  {
   "cell_type": "code",
   "execution_count": 3,
   "metadata": {},
   "outputs": [],
   "source": [
    "#OpenKE分割代码\n",
    "pd_all = pd.read_csv(os.path.join(path+\"/dblp_e_map.csv\"),sep=',')\n",
    "pd_all = shuffle(pd_all)\n",
    "pd_all=pd_all.reindex(columns=[\"source_map:int\",\"target_map:int\",\"label_map:int\",\"edge_id:int\"])\n",
    "test_set = pd_all.iloc[0:int(pd_all.shape[0]/10)]\n",
    "valid_set=pd_all.iloc[int(pd_all.shape[0]/10):2*int(pd_all.shape[0]/10)]\n",
    "train_set = pd_all.iloc[2*int(pd_all.shape[0]/10): int(pd_all.shape[0])]\n",
    "test_set.iloc[:,0:3].to_csv(path+\"/test2id.txt\", index=False, sep='\\t')\n",
    "valid_set.iloc[:,0:3].to_csv(path+\"/valid2id.txt\", index=False, sep='\\t')\n",
    "train_set.iloc[:,0:3].to_csv(path+\"/train2id.txt\", index=False, sep='\\t')\n",
    "test_set.to_csv(path+\"/test.csv\", index=False, sep=',')\n",
    "valid_set.to_csv(path+\"/valid.csv\", index=False, sep=',')\n",
    "train_set.to_csv(path+\"/train.csv\", index=False, sep=',')"
   ]
  },
  {
   "cell_type": "code",
   "execution_count": 39,
   "metadata": {},
   "outputs": [
    {
     "name": "stdout",
     "output_type": "stream",
     "text": [
      "(241249, 4)\n",
      "(30156, 4)\n",
      "(30156, 4)\n"
     ]
    }
   ],
   "source": [
    "print(train_set.shape)\n",
    "print(test_set.shape)\n",
    "print(valid_set.shape)"
   ]
  },
  {
   "cell_type": "code",
   "execution_count": 3,
   "metadata": {},
   "outputs": [],
   "source": [
    "import DataUtils\n",
    "datautils=DataUtils.DataUtils(path+\"/dbpedia_e.csv\",path+\"/dbpedia_v.csv\",graph_route=None)\n",
    "#datautils.split_seq(del_num=2,input_file=path+\"/dblp_v.csv\",output_file=path+\"/dblp_v_new.csv\")\n"
   ]
  },
  {
   "cell_type": "code",
   "execution_count": 6,
   "metadata": {},
   "outputs": [
    {
     "data": {
      "text/plain": [
       "(205783, 4)"
      ]
     },
     "execution_count": 6,
     "metadata": {},
     "output_type": "execute_result"
    }
   ],
   "source": [
    "entity2id=pd.read_csv(path+\"/dblp_v_map.csv\")\n",
    "entity2id.reindex(columns=[\"name:string\",\"vertex_map:int\"]).to_csv(path+\"/entity2id.txt\",sep=\"\\t\",index=None)\n",
    "entity2id.shape"
   ]
  },
  {
   "cell_type": "code",
   "execution_count": 30,
   "metadata": {},
   "outputs": [
    {
     "data": {
      "text/plain": [
       "(16, 1)"
      ]
     },
     "execution_count": 30,
     "metadata": {},
     "output_type": "execute_result"
    }
   ],
   "source": [
    "relation2id=pd.read_csv(path+\"/openke/dblp_e_map.csv\")\n",
    "relation2idlist=relation2id[\"label_id:int\"].values.tolist()\n",
    "relation2idset=set(relation2idlist)\n",
    "df=pd.DataFrame(relation2idset)\n",
    "df.to_csv(path+\"/openke/relation2id.csv\",sep=\",\")\n",
    "df.shape"
   ]
  },
  {
   "cell_type": "code",
   "execution_count": 32,
   "metadata": {},
   "outputs": [
    {
     "data": {
      "text/plain": [
       "(16, 2)"
      ]
     },
     "execution_count": 32,
     "metadata": {},
     "output_type": "execute_result"
    }
   ],
   "source": [
    "r2id=pd.read_csv(path+\"/openke/relation2id.csv\",delimiter=\",\")\n",
    "r2id=r2id.reindex(columns=[\"relation\",\"id\"])\n",
    "r2id.to_csv(path+\"/openke/r2id.txt\",sep=\"\\t\",index=None)\n",
    "r2id.shape"
   ]
  }
 ],
 "metadata": {
  "interpreter": {
   "hash": "7eecec397c16758716d6d2477f82ea485c5fb1c0dda44cf73447b23f0e41c9cc"
  },
  "kernelspec": {
   "display_name": "Python 3.9.1 ('torch')",
   "language": "python",
   "name": "python3"
  },
  "language_info": {
   "codemirror_mode": {
    "name": "ipython",
    "version": 3
   },
   "file_extension": ".py",
   "mimetype": "text/x-python",
   "name": "python",
   "nbconvert_exporter": "python",
   "pygments_lexer": "ipython3",
   "version": "3.9.1"
  },
  "orig_nbformat": 4
 },
 "nbformat": 4,
 "nbformat_minor": 2
}
