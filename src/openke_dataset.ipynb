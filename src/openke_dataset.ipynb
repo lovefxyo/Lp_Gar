{
 "cells": [
  {
   "cell_type": "code",
   "execution_count": null,
   "metadata": {},
   "outputs": [],
   "source": [
    "#OPENKE的数据处理"
   ]
  },
  {
   "cell_type": "code",
   "execution_count": 89,
   "metadata": {},
   "outputs": [],
   "source": [
    "import pandas as pd\n",
    "import torch"
   ]
  },
  {
   "cell_type": "code",
   "execution_count": 93,
   "metadata": {},
   "outputs": [],
   "source": [
    "#设置读入文件的v和e\n",
    "e_data_path=\"./graph_dataset/dblp_1980/dblp_e.csv\"\n",
    "v_data_path=\"./graph_dataset/dblp_1980/dblp_v_new.csv\"\n"
   ]
  },
  {
   "cell_type": "code",
   "execution_count": 94,
   "metadata": {},
   "outputs": [],
   "source": [
    "#从0-n进行映射\n",
    "def csv_mapping(path, index_col, encoders=None, **kwargs):\n",
    "    df = pd.read_csv(path, index_col=index_col, **kwargs)\n",
    "    mapping = {index: i for i, index in enumerate(df.index.unique())}\n",
    "    return  mapping\n"
   ]
  },
  {
   "cell_type": "code",
   "execution_count": 102,
   "metadata": {},
   "outputs": [
    {
     "data": {
      "text/plain": [
       "{1009: 0,\n",
       " 1014: 1,\n",
       " 1001: 2,\n",
       " 1002: 3,\n",
       " 1003: 4,\n",
       " 1004: 5,\n",
       " 1006: 6,\n",
       " 1015: 7,\n",
       " 1005: 8,\n",
       " 1013: 9,\n",
       " 1017: 10,\n",
       " 1007: 11,\n",
       " 1010: 12,\n",
       " 1008: 13,\n",
       " 1011: 14,\n",
       " 1012: 15}"
      ]
     },
     "execution_count": 102,
     "metadata": {},
     "output_type": "execute_result"
    }
   ],
   "source": [
    "v_mapping=csv_mapping(v_data_path,index_col=\"vertex_id:int\")\n",
    "r_mapping=csv_mapping(e_data_path,index_col=\"label_id:int\")\n",
    "r_mapping\n"
   ]
  },
  {
   "cell_type": "code",
   "execution_count": 104,
   "metadata": {},
   "outputs": [],
   "source": [
    "#对v文件进行映射\n",
    "v_data=pd.read_csv(v_data_path)\n",
    "v_data[\"vertex_id:int\"].replace(v_mapping,inplace=True)\n",
    "v_data[\"name:string\"].replace(\" \",\"_\",inplace=True)\n",
    "v_data_origin=pd.read_csv(v_data_path)\n",
    "v_data.rename(columns={\"vertex_id:int\":\"vertex_map:int\"},inplace=True)\n",
    "#v_data_map=pd.concat(v_data_origin,v_data[\"vertex_map:int\"],axis=1)\n",
    "pd.concat([v_data_origin,v_data[\"vertex_map:int\"]],axis=1).to_csv(\"./graph_dataset/dblp_1980/openke/dblp_v_map.csv\",sep=\",\",index=None)"
   ]
  },
  {
   "cell_type": "code",
   "execution_count": 103,
   "metadata": {},
   "outputs": [],
   "source": [
    "#对e文件进行映射\n",
    "e_data=pd.read_csv(e_data_path)\n",
    "e_data_origin=pd.read_csv(e_data_path)\n",
    "e_data[\"source_id:int\"].replace(v_mapping,inplace=True)\n",
    "e_data[\"target_id:int\"].replace(v_mapping,inplace=True)\n",
    "e_data[\"label_id:int\"].replace(r_mapping,inplace=True)\n",
    "e_data.rename(columns={\"source_id:int\":\"source_map:int\",\"label_id:int\":\"label_map:int\",\"target_id:int\":\"target_map:int\"},inplace=True)\n",
    "e_data.iloc[:,1:]\n",
    "pd.concat([e_data_origin,e_data.iloc[:,1:]],axis=1).to_csv(\"./graph_dataset/dblp_1980/openke/dblp_e_map.csv\",sep=\",\",index=None)"
   ]
  },
  {
   "cell_type": "code",
   "execution_count": 86,
   "metadata": {},
   "outputs": [],
   "source": [
    "e_data.iloc[:,1:]\n",
    "pd.concat([e_data_origin,e_data.iloc[:,1:]],axis=1).to_csv(\"./graph_dataset/yago/5_yago_e_map.csv\",sep=\",\",index=None)"
   ]
  },
  {
   "cell_type": "code",
   "execution_count": null,
   "metadata": {},
   "outputs": [],
   "source": []
  }
 ],
 "metadata": {
  "interpreter": {
   "hash": "7eecec397c16758716d6d2477f82ea485c5fb1c0dda44cf73447b23f0e41c9cc"
  },
  "kernelspec": {
   "display_name": "Python 3.9.1 ('torch')",
   "language": "python",
   "name": "python3"
  },
  "language_info": {
   "codemirror_mode": {
    "name": "ipython",
    "version": 3
   },
   "file_extension": ".py",
   "mimetype": "text/x-python",
   "name": "python",
   "nbconvert_exporter": "python",
   "pygments_lexer": "ipython3",
   "version": "3.9.1"
  },
  "orig_nbformat": 4
 },
 "nbformat": 4,
 "nbformat_minor": 2
}
