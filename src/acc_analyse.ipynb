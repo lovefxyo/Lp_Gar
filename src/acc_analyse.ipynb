{
 "cells": [
  {
   "cell_type": "code",
   "execution_count": 21,
   "metadata": {},
   "outputs": [],
   "source": [
    "import pandas as pd"
   ]
  },
  {
   "cell_type": "code",
   "execution_count": 22,
   "metadata": {},
   "outputs": [],
   "source": [
    "gar_chase_path=\"./fxygar/2_1002_6_gar/result/gar_match.csv\"\n",
    "link_predict_path=\"./graph_dataset/dblp_1980/pykeen/top_100000_group/(2,1002,6).csv\""
   ]
  },
  {
   "cell_type": "code",
   "execution_count": 23,
   "metadata": {},
   "outputs": [],
   "source": [
    "gar_chase=pd.read_csv(gar_chase_path)\n",
    "link_predict=pd.read_csv(link_predict_path)"
   ]
  },
  {
   "cell_type": "code",
   "execution_count": 24,
   "metadata": {},
   "outputs": [],
   "source": [
    "#去重gar chase\n",
    "gar_chase.value_counts().to_csv(\"./fxygar/2_1002_6_gar/result/gar_match_group.csv\")\n",
    "gar_chase_group_path=\"./fxygar/2_1002_6_gar/result/gar_match_group.csv\"\n",
    "gar_chase_group=pd.read_csv(gar_chase_group_path)\n"
   ]
  },
  {
   "cell_type": "code",
   "execution_count": 25,
   "metadata": {},
   "outputs": [
    {
     "data": {
      "text/html": [
       "<div>\n",
       "<style scoped>\n",
       "    .dataframe tbody tr th:only-of-type {\n",
       "        vertical-align: middle;\n",
       "    }\n",
       "\n",
       "    .dataframe tbody tr th {\n",
       "        vertical-align: top;\n",
       "    }\n",
       "\n",
       "    .dataframe thead th {\n",
       "        text-align: right;\n",
       "    }\n",
       "</style>\n",
       "<table border=\"1\" class=\"dataframe\">\n",
       "  <thead>\n",
       "    <tr style=\"text-align: right;\">\n",
       "      <th></th>\n",
       "      <th>head_label</th>\n",
       "      <th>relation_label</th>\n",
       "      <th>tail_label</th>\n",
       "      <th>src_label</th>\n",
       "      <th>dst_label</th>\n",
       "      <th>0</th>\n",
       "      <th>label_id:int_x</th>\n",
       "      <th>label_id:int_y</th>\n",
       "    </tr>\n",
       "  </thead>\n",
       "  <tbody>\n",
       "  </tbody>\n",
       "</table>\n",
       "</div>"
      ],
      "text/plain": [
       "Empty DataFrame\n",
       "Columns: [head_label, relation_label, tail_label, src_label, dst_label, 0, label_id:int_x, label_id:int_y]\n",
       "Index: []"
      ]
     },
     "execution_count": 25,
     "metadata": {},
     "output_type": "execute_result"
    }
   ],
   "source": [
    "pd.merge(gar_chase_group,link_predict,on=[\"head_label\",\"relation_label\",\"tail_label\"])"
   ]
  }
 ],
 "metadata": {
  "interpreter": {
   "hash": "7eecec397c16758716d6d2477f82ea485c5fb1c0dda44cf73447b23f0e41c9cc"
  },
  "kernelspec": {
   "display_name": "Python 3.9.1 ('torch')",
   "language": "python",
   "name": "python3"
  },
  "language_info": {
   "codemirror_mode": {
    "name": "ipython",
    "version": 3
   },
   "file_extension": ".py",
   "mimetype": "text/x-python",
   "name": "python",
   "nbconvert_exporter": "python",
   "pygments_lexer": "ipython3",
   "version": "3.9.7"
  },
  "orig_nbformat": 4
 },
 "nbformat": 4,
 "nbformat_minor": 2
}
